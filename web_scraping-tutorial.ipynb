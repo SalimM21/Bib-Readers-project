{
 "cells": [
  {
   "cell_type": "markdown",
   "id": "387951e2",
   "metadata": {},
   "source": [
    "Le **web scraping** consiste à extraire des données de sites web. Selenium Testing est un outil populaire pour le web scraping, car il peut interagir avec les pages web comme un humain, ce qui le rend particulièrement utile pour extraire du contenu dynamique généré par JavaScript.\n",
    "**Etapes pour travailler avec web sraping**\n",
    "\n",
    "1.  Installer Selenium :pip install selenium\n",
    "2.  Téléchargez WebDriver :\n",
    "      *  **ChromeDriver** : Télécharger ChromeDriver\n",
    "      *  **GeckoDriver (Firefox)** : Télécharger GeckoDriver\n",
    "\n",
    "**Selenium **est compatible avec plusieurs navigateurs, mais nous utiliserons **Google Chrome**, le plus populaire. Vous devrez également installer les éléments suivants :\n",
    "\n",
    "**Google Chrome** : La dernière version du navigateur fera l'affaire.\n",
    "**ChromeDriver** : Téléchargez celui qui correspond à votre version de Chrome*(pour savoir la version de chrome tape ceci *chrome://settings/help* dans chrome)*, extrayez le dossier zippé et collez le fichier exécutable ( chromedriver.exe) dans le dossier racine de votre projet.\n"
   ]
  },
  {
   "cell_type": "markdown",
   "id": "e37c6fe8",
   "metadata": {},
   "source": [
    "# Step #1: Build a Basic Scraper #\n",
    "  Initialize a **scraper.py** file in your project directory . The code instantiates a ChromeDriver object and uses it to visit the target site before quitting the driver instance:"
   ]
  },
  {
   "cell_type": "code",
   "execution_count": 4,
   "id": "b1b02ee5",
   "metadata": {},
   "outputs": [
    {
     "name": "stdout",
     "output_type": "stream",
     "text": [
      "Defaulting to user installation because normal site-packages is not writeable\n",
      "Requirement already satisfied: selenium in c:\\users\\naoui\\appdata\\local\\packages\\pythonsoftwarefoundation.python.3.13_qbz5n2kfra8p0\\localcache\\local-packages\\python313\\site-packages (4.34.2)\n",
      "Requirement already satisfied: urllib3~=2.5.0 in c:\\users\\naoui\\appdata\\local\\packages\\pythonsoftwarefoundation.python.3.13_qbz5n2kfra8p0\\localcache\\local-packages\\python313\\site-packages (from urllib3[socks]~=2.5.0->selenium) (2.5.0)\n",
      "Requirement already satisfied: trio~=0.30.0 in c:\\users\\naoui\\appdata\\local\\packages\\pythonsoftwarefoundation.python.3.13_qbz5n2kfra8p0\\localcache\\local-packages\\python313\\site-packages (from selenium) (0.30.0)\n",
      "Requirement already satisfied: trio-websocket~=0.12.2 in c:\\users\\naoui\\appdata\\local\\packages\\pythonsoftwarefoundation.python.3.13_qbz5n2kfra8p0\\localcache\\local-packages\\python313\\site-packages (from selenium) (0.12.2)\n",
      "Requirement already satisfied: certifi>=2025.6.15 in c:\\users\\naoui\\appdata\\local\\packages\\pythonsoftwarefoundation.python.3.13_qbz5n2kfra8p0\\localcache\\local-packages\\python313\\site-packages (from selenium) (2025.7.9)\n",
      "Requirement already satisfied: typing_extensions~=4.14.0 in c:\\users\\naoui\\appdata\\local\\packages\\pythonsoftwarefoundation.python.3.13_qbz5n2kfra8p0\\localcache\\local-packages\\python313\\site-packages (from selenium) (4.14.1)\n",
      "Requirement already satisfied: websocket-client~=1.8.0 in c:\\users\\naoui\\appdata\\local\\packages\\pythonsoftwarefoundation.python.3.13_qbz5n2kfra8p0\\localcache\\local-packages\\python313\\site-packages (from selenium) (1.8.0)\n",
      "Requirement already satisfied: attrs>=23.2.0 in c:\\users\\naoui\\appdata\\local\\packages\\pythonsoftwarefoundation.python.3.13_qbz5n2kfra8p0\\localcache\\local-packages\\python313\\site-packages (from trio~=0.30.0->selenium) (25.3.0)\n",
      "Requirement already satisfied: sortedcontainers in c:\\users\\naoui\\appdata\\local\\packages\\pythonsoftwarefoundation.python.3.13_qbz5n2kfra8p0\\localcache\\local-packages\\python313\\site-packages (from trio~=0.30.0->selenium) (2.4.0)\n",
      "Requirement already satisfied: idna in c:\\users\\naoui\\appdata\\local\\packages\\pythonsoftwarefoundation.python.3.13_qbz5n2kfra8p0\\localcache\\local-packages\\python313\\site-packages (from trio~=0.30.0->selenium) (3.10)\n",
      "Requirement already satisfied: outcome in c:\\users\\naoui\\appdata\\local\\packages\\pythonsoftwarefoundation.python.3.13_qbz5n2kfra8p0\\localcache\\local-packages\\python313\\site-packages (from trio~=0.30.0->selenium) (1.3.0.post0)\n",
      "Requirement already satisfied: sniffio>=1.3.0 in c:\\users\\naoui\\appdata\\local\\packages\\pythonsoftwarefoundation.python.3.13_qbz5n2kfra8p0\\localcache\\local-packages\\python313\\site-packages (from trio~=0.30.0->selenium) (1.3.1)\n",
      "Requirement already satisfied: cffi>=1.14 in c:\\users\\naoui\\appdata\\local\\packages\\pythonsoftwarefoundation.python.3.13_qbz5n2kfra8p0\\localcache\\local-packages\\python313\\site-packages (from trio~=0.30.0->selenium) (1.17.1)\n",
      "Requirement already satisfied: wsproto>=0.14 in c:\\users\\naoui\\appdata\\local\\packages\\pythonsoftwarefoundation.python.3.13_qbz5n2kfra8p0\\localcache\\local-packages\\python313\\site-packages (from trio-websocket~=0.12.2->selenium) (1.2.0)\n",
      "Requirement already satisfied: pysocks!=1.5.7,<2.0,>=1.5.6 in c:\\users\\naoui\\appdata\\local\\packages\\pythonsoftwarefoundation.python.3.13_qbz5n2kfra8p0\\localcache\\local-packages\\python313\\site-packages (from urllib3[socks]~=2.5.0->selenium) (1.7.1)\n",
      "Requirement already satisfied: pycparser in c:\\users\\naoui\\appdata\\local\\packages\\pythonsoftwarefoundation.python.3.13_qbz5n2kfra8p0\\localcache\\local-packages\\python313\\site-packages (from cffi>=1.14->trio~=0.30.0->selenium) (2.22)\n",
      "Requirement already satisfied: h11<1,>=0.9.0 in c:\\users\\naoui\\appdata\\local\\packages\\pythonsoftwarefoundation.python.3.13_qbz5n2kfra8p0\\localcache\\local-packages\\python313\\site-packages (from wsproto>=0.14->trio-websocket~=0.12.2->selenium) (0.16.0)\n",
      "Note: you may need to restart the kernel to use updated packages.\n"
     ]
    },
    {
     "name": "stderr",
     "output_type": "stream",
     "text": [
      "\n",
      "[notice] A new release of pip is available: 25.1.1 -> 25.2\n",
      "[notice] To update, run: C:\\Users\\naoui\\AppData\\Local\\Microsoft\\WindowsApps\\PythonSoftwareFoundation.Python.3.13_qbz5n2kfra8p0\\python.exe -m pip install --upgrade pip\n"
     ]
    }
   ],
   "source": [
    "%pip install selenium"
   ]
  },
  {
   "cell_type": "markdown",
   "id": "dd8c9c39",
   "metadata": {},
   "source": [
    "# Importer des bibliothèques et configurer WebDriver : #"
   ]
  },
  {
   "cell_type": "code",
   "execution_count": 6,
   "id": "4819f39e",
   "metadata": {},
   "outputs": [],
   "source": [
    "from selenium import webdriver\n",
    "from time import sleep\n",
    "from selenium.webdriver.chrome.service import Service\n",
    "\n",
    "import os"
   ]
  },
  {
   "cell_type": "markdown",
   "id": "a47f148d",
   "metadata": {},
   "source": [
    "# Set th path for webdriver #"
   ]
  },
  {
   "cell_type": "code",
   "execution_count": 7,
   "id": "39df1c08",
   "metadata": {},
   "outputs": [],
   "source": [
    "path='chromedriver-win64/chromedriver-win64/chromedriver.exe'"
   ]
  },
  {
   "cell_type": "markdown",
   "id": "426159a4",
   "metadata": {},
   "source": [
    " Dans les nouvelles versions de *Selenium (v4+)*, le paramètre executable_path n'existe plus dans le constructeur de *webdriver.Chrome()*.\n",
    "\n",
    "Depuis *Selenium 4*, il faut utiliser la classe Service pour spécifier le chemin du driver."
   ]
  },
  {
   "cell_type": "code",
   "execution_count": 8,
   "id": "8ac632ff",
   "metadata": {},
   "outputs": [],
   "source": [
    "#creer un service\n",
    "service = Service(executable_path=path)\n",
    "#open the browser\n",
    "browser = webdriver.Chrome(service=service)"
   ]
  },
  {
   "cell_type": "code",
   "execution_count": 10,
   "id": "b72a943f",
   "metadata": {},
   "outputs": [],
   "source": [
    "#chargement de page(visit the target site)\n",
    "browser.get('https://books.toscrape.com')\n",
    "# Affichage complet de la page html\n",
    "#print(browser.page_source)\n"
   ]
  },
  {
   "cell_type": "code",
   "execution_count": 12,
   "id": "d7c5b5c0",
   "metadata": {},
   "outputs": [],
   "source": [
    "#maximize the window\n",
    "browser.maximize_window()"
   ]
  },
  {
   "cell_type": "markdown",
   "id": "3dd26d53",
   "metadata": {},
   "source": [
    "#Étape 2 : Configurer le mode headless #"
   ]
  },
  {
   "cell_type": "markdown",
   "id": "2f9924cf",
   "metadata": {},
   "source": [
    "Activez le mode headless pour Chrome dans Selenium en définissant un ChromeOptionsobjet et en le transmettant au constructeur WebDriver de Chrome. De plus, vous devez définir headless=new pour activer le mode headless "
   ]
  },
  {
   "cell_type": "code",
   "execution_count": 11,
   "id": "5da96593",
   "metadata": {},
   "outputs": [],
   "source": [
    "# instantiate a Chrome options object\n",
    "options = webdriver.ChromeOptions()\n",
    "\n",
    "# set the options to use Chrome in headless mode\n",
    "options.add_argument(\"--headless=new\")\n",
    " \n",
    "# initialize an instance of the Chrome driver (browser) in headless mode\n",
    "browser = webdriver.Chrome(options=options)"
   ]
  },
  {
   "cell_type": "markdown",
   "id": "96f3917a",
   "metadata": {},
   "source": [
    "# Étape 3 : Extraire des données spécifiques de la page #"
   ]
  },
  {
   "cell_type": "markdown",
   "id": "8eb5b1d7",
   "metadata": {},
   "source": [
    "Il existe deux méthodes pour localiser des éléments sur une page Web :\n",
    "*find_element:* Il ne trouve qu'un seul élément. Si plusieurs éléments partagent des sélecteurs similaires, il renvoie le premier élément HTML correspondant à la condition de recherche.\n",
    "*find_elements:* Il renvoie tous les éléments qui correspondent à la condition de recherche dans un tableau.\n",
    "Ces deux méthodes prennent en charge huit stratégies de localisation. Nous pouvons les classer en trois catégories :\n",
    "*Sélecteurs CSS : By.ID , By.CLASS_NAME, et By.CSS_SELECTOR*.\n",
    "*XPath : By.XPATH* .\n",
    "*Sélecteurs directs : By.NAME , By.LINK_TEXT, By.PARTIAL_LINK_TEXT, et By.TAG_NAME*."
   ]
  },
  {
   "cell_type": "code",
   "execution_count": 13,
   "id": "8e218a2f",
   "metadata": {},
   "outputs": [],
   "source": [
    "from selenium.webdriver.common.by import By\n",
    "import pandas as pd"
   ]
  },
  {
   "cell_type": "code",
   "execution_count": 14,
   "id": "4138d4c1",
   "metadata": {},
   "outputs": [
    {
     "name": "stdout",
     "output_type": "stream",
     "text": [
      " Scraping page 1...\n",
      " Fin du scraping - plus de pages.\n"
     ]
    }
   ],
   "source": [
    "\n",
    "from selenium.webdriver.support.ui import WebDriverWait\n",
    "from selenium.webdriver.support import expected_conditions as EC\n",
    "import pandas as pd\n",
    "\n",
    "# === LANCEMENT SELENIUM ===\n",
    "driver = webdriver.Chrome()\n",
    "driver.get(\"https://books.toscrape.com/catalogue/page-1.html\")\n",
    "\n",
    "books = []\n",
    "\n",
    "page_number = 1\n",
    "while True:\n",
    "    print(f\" Scraping page {page_number}...\")\n",
    "    \n",
    "    # Attendre que les livres soient chargés\n",
    "    WebDriverWait(driver, 5).until(\n",
    "        EC.presence_of_all_elements_located((By.CLASS_NAME, \"product_pod\"))\n",
    "    )\n",
    "    \n",
    "    # Récupérer tous les liens des livres sur la page\n",
    "    book_links = driver.find_elements(By.XPATH, \"//h3/a\")\n",
    "    links = [link.get_attribute(\"href\") for link in book_links]\n",
    "\n",
    "    # Parcourir chaque livre\n",
    "    for link in links:\n",
    "        driver.get(link)\n",
    "\n",
    "        # Titre\n",
    "        title = driver.find_element(By.TAG_NAME, \"h1\").text\n",
    "\n",
    "        # Description (parfois absente)\n",
    "        try:\n",
    "            description = driver.find_element(\n",
    "                By.XPATH, \"//div[@id='product_description']/following-sibling::p\"\n",
    "            ).text\n",
    "        except:\n",
    "            description = \"Pas de description\"\n",
    "\n",
    "        # Prix\n",
    "        price = driver.find_element(By.CLASS_NAME, \"price_color\").text\n",
    "\n",
    "        # Disponibilité\n",
    "        availability = driver.find_element(By.CLASS_NAME, \"availability\").text.strip()\n",
    "\n",
    "        # Image\n",
    "        image_url = driver.find_element(By.CSS_SELECTOR, \".item.active img\").get_attribute(\"src\")\n",
    "\n",
    "        # Note\n",
    "        rating_class = driver.find_element(By.CLASS_NAME, \"star-rating\").get_attribute(\"class\").split()[-1]\n",
    "        rating_map = {\"One\": 1, \"Two\": 2, \"Three\": 3, \"Four\": 4, \"Five\": 5}\n",
    "        rating = rating_map.get(rating_class, None)\n",
    "\n",
    "        books.append({\n",
    "            \"Title\": title,\n",
    "            \"Description\": description,\n",
    "            \"Price\": price,\n",
    "            \"Availability\": availability,\n",
    "            \"Image_URL\": image_url,\n",
    "            \"Rating\": rating\n",
    "        })\n",
    "\n",
    "    # Aller à la page suivante si possible\n",
    "    try:\n",
    "        next_button = driver.find_element(By.CLASS_NAME, \"next\").find_element(By.TAG_NAME, \"a\")\n",
    "        next_page_url = next_button.get_attribute(\"href\")\n",
    "        driver.get(next_page_url)\n",
    "        page_number += 1\n",
    "    except:\n",
    "        print(\" Fin du scraping - plus de pages.\")\n",
    "        break\n",
    "\n"
   ]
  },
  {
   "cell_type": "code",
   "execution_count": 15,
   "id": "a61f994b",
   "metadata": {},
   "outputs": [
    {
     "name": "stdout",
     "output_type": "stream",
     "text": [
      "                                   Title  \\\n",
      "0                   A Light in the Attic   \n",
      "1                     Tipping the Velvet   \n",
      "2                             Soumission   \n",
      "3                          Sharp Objects   \n",
      "4  Sapiens: A Brief History of Humankind   \n",
      "\n",
      "                                         Description   Price  \\\n",
      "0  It's hard to imagine a world without A Light i...  £51.77   \n",
      "1  \"Erotic and absorbing...Written with starling ...  £53.74   \n",
      "2  Dans une France assez proche de la nôtre, un h...  £50.10   \n",
      "3  WICKED above her hipbone, GIRL across her hear...  £47.82   \n",
      "4  From a renowned historian comes a groundbreaki...  £54.23   \n",
      "\n",
      "              Availability                                          Image_URL  \\\n",
      "0  In stock (22 available)  https://books.toscrape.com/media/cache/fe/72/f...   \n",
      "1  In stock (20 available)  https://books.toscrape.com/media/cache/08/e9/0...   \n",
      "2  In stock (20 available)  https://books.toscrape.com/media/cache/ee/cf/e...   \n",
      "3  In stock (20 available)  https://books.toscrape.com/media/cache/c0/59/c...   \n",
      "4  In stock (20 available)  https://books.toscrape.com/media/cache/ce/5f/c...   \n",
      "\n",
      "   Rating  \n",
      "0       3  \n",
      "1       1  \n",
      "2       1  \n",
      "3       4  \n",
      "4       5  \n"
     ]
    }
   ],
   "source": [
    "# Créer le DataFrame\n",
    "df = pd.DataFrame(books)\n",
    "print(df.head())"
   ]
  },
  {
   "cell_type": "code",
   "execution_count": null,
   "id": "f22606c7",
   "metadata": {},
   "outputs": [],
   "source": [
    "# Sauvegarder en CSV\n",
    "df.to_csv(\"books_list.csv\", index=False, encoding=\"utf-8\")\n",
    "print(\" Données sauvegardées dans books_list.csv\")\n"
   ]
  },
  {
   "cell_type": "code",
   "execution_count": null,
   "id": "76eaf991",
   "metadata": {},
   "outputs": [
    {
     "name": "stdout",
     "output_type": "stream",
     "text": [
      "A Light in the ...\n",
      "Tipping the Velvet\n",
      "Soumission\n",
      "Sharp Objects\n",
      "Sapiens: A Brief History ...\n",
      "The Requiem Red\n",
      "The Dirty Little Secrets ...\n",
      "The Coming Woman: A ...\n",
      "The Boys in the ...\n",
      "The Black Maria\n",
      "Starving Hearts (Triangular Trade ...\n",
      "Shakespeare's Sonnets\n",
      "Set Me Free\n",
      "Scott Pilgrim's Precious Little ...\n",
      "Rip it Up and ...\n",
      "Our Band Could Be ...\n",
      "Olio\n",
      "Mesaerion: The Best Science ...\n",
      "Libertarianism for Beginners\n",
      "It's Only the Himalayas\n"
     ]
    }
   ],
   "source": [
    "\n",
    "# Récupérer l'élément <h1>\n",
    "titles = browser.find_elements(By.XPATH, \"//h3/a\")\n",
    "for t in titles:\n",
    "    print(t.text)\n"
   ]
  },
  {
   "cell_type": "code",
   "execution_count": 20,
   "id": "d9ad1f2c",
   "metadata": {},
   "outputs": [
    {
     "ename": "InvalidSessionIdException",
     "evalue": "Message: invalid session id: session deleted as the browser has closed the connection\nfrom disconnected: not connected to DevTools\n  (Session info: chrome=139.0.7258.67); For documentation on this error, please visit: https://www.selenium.dev/documentation/webdriver/troubleshooting/errors#invalidsessionidexception\nStacktrace:\n\tGetHandleVerifier [0x0x7ff76cc66b55+79621]\n\tGetHandleVerifier [0x0x7ff76cc66bb0+79712]\n\t(No symbol) [0x0x7ff76c9fc0ea]\n\t(No symbol) [0x0x7ff76c9e8355]\n\t(No symbol) [0x0x7ff76ca0cefa]\n\t(No symbol) [0x0x7ff76ca82845]\n\t(No symbol) [0x0x7ff76caa2d02]\n\t(No symbol) [0x0x7ff76ca7af13]\n\t(No symbol) [0x0x7ff76ca44151]\n\t(No symbol) [0x0x7ff76ca44ee3]\n\tGetHandleVerifier [0x0x7ff76cf2686d+2962461]\n\tGetHandleVerifier [0x0x7ff76cf20b8d+2938685]\n\tGetHandleVerifier [0x0x7ff76cf3f74d+3064573]\n\tGetHandleVerifier [0x0x7ff76cc80c9e+186446]\n\tGetHandleVerifier [0x0x7ff76cc88a6f+218655]\n\tGetHandleVerifier [0x0x7ff76cc6f944+115956]\n\tGetHandleVerifier [0x0x7ff76cc6faf9+116393]\n\tGetHandleVerifier [0x0x7ff76cc55f28+10968]\n\tBaseThreadInitThunk [0x0x7ffcca6a7374+20]\n\tRtlUserThreadStart [0x0x7ffccb35cc91+33]\n",
     "output_type": "error",
     "traceback": [
      "\u001b[31m---------------------------------------------------------------------------\u001b[39m",
      "\u001b[31mInvalidSessionIdException\u001b[39m                 Traceback (most recent call last)",
      "\u001b[36mCell\u001b[39m\u001b[36m \u001b[39m\u001b[32mIn[20]\u001b[39m\u001b[32m, line 4\u001b[39m\n\u001b[32m      1\u001b[39m \u001b[38;5;28;01mfrom\u001b[39;00m\u001b[38;5;250m \u001b[39m\u001b[34;01mselenium\u001b[39;00m\u001b[34;01m.\u001b[39;00m\u001b[34;01mwebdriver\u001b[39;00m\u001b[34;01m.\u001b[39;00m\u001b[34;01mcommon\u001b[39;00m\u001b[34;01m.\u001b[39;00m\u001b[34;01mby\u001b[39;00m\u001b[38;5;250m \u001b[39m\u001b[38;5;28;01mimport\u001b[39;00m By\n\u001b[32m      3\u001b[39m \u001b[38;5;66;03m# Titres\u001b[39;00m\n\u001b[32m----> \u001b[39m\u001b[32m4\u001b[39m titles = \u001b[43mbrowser\u001b[49m\u001b[43m.\u001b[49m\u001b[43mfind_elements\u001b[49m\u001b[43m(\u001b[49m\u001b[43mBy\u001b[49m\u001b[43m.\u001b[49m\u001b[43mXPATH\u001b[49m\u001b[43m,\u001b[49m\u001b[43m \u001b[49m\u001b[33;43m\"\u001b[39;49m\u001b[33;43m//h3/a\u001b[39;49m\u001b[33;43m\"\u001b[39;49m\u001b[43m)\u001b[49m\n\u001b[32m      6\u001b[39m \u001b[38;5;66;03m# Prix\u001b[39;00m\n\u001b[32m      7\u001b[39m prices = browser.find_elements(By.CLASS_NAME, \u001b[33m\"\u001b[39m\u001b[33mprice_color\u001b[39m\u001b[33m\"\u001b[39m)\n",
      "\u001b[36mFile \u001b[39m\u001b[32mc:\\Users\\naoui\\OneDrive\\Bureau\\BookSmart\\.venv\\Lib\\site-packages\\selenium\\webdriver\\remote\\webdriver.py:963\u001b[39m, in \u001b[36mWebDriver.find_elements\u001b[39m\u001b[34m(self, by, value)\u001b[39m\n\u001b[32m    959\u001b[39m     \u001b[38;5;28;01mreturn\u001b[39;00m \u001b[38;5;28mself\u001b[39m.execute_script(find_element_js, by.to_dict())\n\u001b[32m    961\u001b[39m \u001b[38;5;66;03m# Return empty list if driver returns null\u001b[39;00m\n\u001b[32m    962\u001b[39m \u001b[38;5;66;03m# See https://github.com/SeleniumHQ/selenium/issues/4555\u001b[39;00m\n\u001b[32m--> \u001b[39m\u001b[32m963\u001b[39m \u001b[38;5;28;01mreturn\u001b[39;00m \u001b[38;5;28;43mself\u001b[39;49m\u001b[43m.\u001b[49m\u001b[43mexecute\u001b[49m\u001b[43m(\u001b[49m\u001b[43mCommand\u001b[49m\u001b[43m.\u001b[49m\u001b[43mFIND_ELEMENTS\u001b[49m\u001b[43m,\u001b[49m\u001b[43m \u001b[49m\u001b[43m{\u001b[49m\u001b[33;43m\"\u001b[39;49m\u001b[33;43musing\u001b[39;49m\u001b[33;43m\"\u001b[39;49m\u001b[43m:\u001b[49m\u001b[43m \u001b[49m\u001b[43mby\u001b[49m\u001b[43m,\u001b[49m\u001b[43m \u001b[49m\u001b[33;43m\"\u001b[39;49m\u001b[33;43mvalue\u001b[39;49m\u001b[33;43m\"\u001b[39;49m\u001b[43m:\u001b[49m\u001b[43m \u001b[49m\u001b[43mvalue\u001b[49m\u001b[43m}\u001b[49m\u001b[43m)\u001b[49m[\u001b[33m\"\u001b[39m\u001b[33mvalue\u001b[39m\u001b[33m\"\u001b[39m] \u001b[38;5;129;01mor\u001b[39;00m []\n",
      "\u001b[36mFile \u001b[39m\u001b[32mc:\\Users\\naoui\\OneDrive\\Bureau\\BookSmart\\.venv\\Lib\\site-packages\\selenium\\webdriver\\remote\\webdriver.py:454\u001b[39m, in \u001b[36mWebDriver.execute\u001b[39m\u001b[34m(self, driver_command, params)\u001b[39m\n\u001b[32m    451\u001b[39m response = cast(RemoteConnection, \u001b[38;5;28mself\u001b[39m.command_executor).execute(driver_command, params)\n\u001b[32m    453\u001b[39m \u001b[38;5;28;01mif\u001b[39;00m response:\n\u001b[32m--> \u001b[39m\u001b[32m454\u001b[39m     \u001b[38;5;28;43mself\u001b[39;49m\u001b[43m.\u001b[49m\u001b[43merror_handler\u001b[49m\u001b[43m.\u001b[49m\u001b[43mcheck_response\u001b[49m\u001b[43m(\u001b[49m\u001b[43mresponse\u001b[49m\u001b[43m)\u001b[49m\n\u001b[32m    455\u001b[39m     response[\u001b[33m\"\u001b[39m\u001b[33mvalue\u001b[39m\u001b[33m\"\u001b[39m] = \u001b[38;5;28mself\u001b[39m._unwrap_value(response.get(\u001b[33m\"\u001b[39m\u001b[33mvalue\u001b[39m\u001b[33m\"\u001b[39m, \u001b[38;5;28;01mNone\u001b[39;00m))\n\u001b[32m    456\u001b[39m     \u001b[38;5;28;01mreturn\u001b[39;00m response\n",
      "\u001b[36mFile \u001b[39m\u001b[32mc:\\Users\\naoui\\OneDrive\\Bureau\\BookSmart\\.venv\\Lib\\site-packages\\selenium\\webdriver\\remote\\errorhandler.py:232\u001b[39m, in \u001b[36mErrorHandler.check_response\u001b[39m\u001b[34m(self, response)\u001b[39m\n\u001b[32m    230\u001b[39m         alert_text = value[\u001b[33m\"\u001b[39m\u001b[33malert\u001b[39m\u001b[33m\"\u001b[39m].get(\u001b[33m\"\u001b[39m\u001b[33mtext\u001b[39m\u001b[33m\"\u001b[39m)\n\u001b[32m    231\u001b[39m     \u001b[38;5;28;01mraise\u001b[39;00m exception_class(message, screen, stacktrace, alert_text)  \u001b[38;5;66;03m# type: ignore[call-arg]  # mypy is not smart enough here\u001b[39;00m\n\u001b[32m--> \u001b[39m\u001b[32m232\u001b[39m \u001b[38;5;28;01mraise\u001b[39;00m exception_class(message, screen, stacktrace)\n",
      "\u001b[31mInvalidSessionIdException\u001b[39m: Message: invalid session id: session deleted as the browser has closed the connection\nfrom disconnected: not connected to DevTools\n  (Session info: chrome=139.0.7258.67); For documentation on this error, please visit: https://www.selenium.dev/documentation/webdriver/troubleshooting/errors#invalidsessionidexception\nStacktrace:\n\tGetHandleVerifier [0x0x7ff76cc66b55+79621]\n\tGetHandleVerifier [0x0x7ff76cc66bb0+79712]\n\t(No symbol) [0x0x7ff76c9fc0ea]\n\t(No symbol) [0x0x7ff76c9e8355]\n\t(No symbol) [0x0x7ff76ca0cefa]\n\t(No symbol) [0x0x7ff76ca82845]\n\t(No symbol) [0x0x7ff76caa2d02]\n\t(No symbol) [0x0x7ff76ca7af13]\n\t(No symbol) [0x0x7ff76ca44151]\n\t(No symbol) [0x0x7ff76ca44ee3]\n\tGetHandleVerifier [0x0x7ff76cf2686d+2962461]\n\tGetHandleVerifier [0x0x7ff76cf20b8d+2938685]\n\tGetHandleVerifier [0x0x7ff76cf3f74d+3064573]\n\tGetHandleVerifier [0x0x7ff76cc80c9e+186446]\n\tGetHandleVerifier [0x0x7ff76cc88a6f+218655]\n\tGetHandleVerifier [0x0x7ff76cc6f944+115956]\n\tGetHandleVerifier [0x0x7ff76cc6faf9+116393]\n\tGetHandleVerifier [0x0x7ff76cc55f28+10968]\n\tBaseThreadInitThunk [0x0x7ffcca6a7374+20]\n\tRtlUserThreadStart [0x0x7ffccb35cc91+33]\n"
     ]
    }
   ],
   "source": [
    "from selenium.webdriver.common.by import By\n",
    "\n",
    "# Titres\n",
    "titles = browser.find_elements(By.XPATH, \"//h3/a\")\n",
    "\n",
    "# Prix\n",
    "prices = browser.find_elements(By.CLASS_NAME, \"price_color\")\n",
    "\n",
    "# Stock (utilisation CSS selector pour classes multiples)\n",
    "stock_availability = browser.find_elements(By.CSS_SELECTOR, \".instock.availability\")\n",
    "\n",
    "# Images (on récupère les <img> à l'intérieur des balises avec classe 'thumbnail')\n",
    "images = browser.find_elements(By.CSS_SELECTOR, \".thumbnail img\")\n",
    "\n",
    "# Ratings\n",
    "ratings = browser.find_elements(By.CLASS_NAME, \"star-rating\")\n",
    "\n",
    "# Affichage\n",
    "for i in range(len(titles)):\n",
    "    title = titles[i].text\n",
    "    price = prices[i].text\n",
    "    stock = stock_availability[i].text.strip()\n",
    "    image_url = images[i].get_attribute(\"src\")\n",
    "    rating_class = ratings[i].get_attribute(\"class\").replace(\"star-rating\", \"\").strip()\n",
    "\n",
    "    print(f\"Titre: {title}\")\n",
    "    print(f\"Prix: {price}\")\n",
    "    print(f\"Stock: {stock}\")\n",
    "    print(f\"Image: {image_url}\")\n",
    "    print(f\"Note: {rating_class}\")\n",
    "    print(\"------\")\n"
   ]
  },
  {
   "cell_type": "code",
   "execution_count": null,
   "id": "1aced381",
   "metadata": {},
   "outputs": [],
   "source": [
    "from selenium import webdriver\n",
    "from selenium.webdriver.chrome.service import Service\n",
    "from selenium.webdriver.chrome.options import Options\n",
    "from selenium.webdriver.common.by import By\n",
    "from webdriver_manager.chrome import ChromeDriverManager\n",
    "import time\n",
    "\n",
    "# --- Configurer Selenium ---\n",
    "chrome_options = Options()\n",
    "chrome_options.add_argument(\"--headless\")  # Optionnel : ne pas afficher la fenêtre\n",
    "chrome_options.add_argument(\"--no-sandbox\")\n",
    "chrome_options.add_argument(\"--disable-dev-shm-usage\")\n",
    "\n",
    "service = Service(ChromeDriverManager().install())\n",
    "browser = webdriver.Chrome(service=service, options=chrome_options)\n",
    "\n",
    "# --- Aller sur le site ---\n",
    "browser.get(\"https://books.toscrape.com\")\n",
    "\n",
    "# --- Trouver tous les livres ---\n",
    "book_links = browser.find_elements(By.XPATH, \"//h3/a\")\n",
    "\n",
    "# On sauvegarde les liens pour pouvoir y revenir\n",
    "book_urls = [link.get_attribute(\"href\") for link in book_links]\n",
    "\n",
    "# --- Boucle sur chaque livre ---\n",
    "for url in book_urls:\n",
    "    browser.get(url)\n",
    "    time.sleep(1)  # laisser le temps de charger\n",
    "\n",
    "    # Titre\n",
    "    title = browser.find_element(By.TAG_NAME, \"h1\").text\n",
    "\n",
    "    # Prix\n",
    "    price = browser.find_element(By.CLASS_NAME, \"price_color\").text\n",
    "\n",
    "    # Stock\n",
    "    stock = browser.find_element(By.CSS_SELECTOR, \".instock.availability\").text.strip()\n",
    "\n",
    "    # Image\n",
    "    image_url = browser.find_element(By.CSS_SELECTOR, \".thumbnail img\").get_attribute(\"src\")\n",
    "\n",
    "    # Note (étoiles)\n",
    "    rating_class = browser.find_element(By.CLASS_NAME, \"star-rating\").get_attribute(\"class\")\n",
    "    rating = rating_class.replace(\"star-rating\", \"\").strip()\n",
    "\n",
    "    # Description\n",
    "    try:\n",
    "        description = browser.find_element(By.CSS_SELECTOR, \"#product_description + p\").text\n",
    "    except:\n",
    "        description = \"Pas de description disponible\"\n",
    "\n",
    "    # --- Affichage ---\n",
    "    print(f\"Titre: {title}\")\n",
    "    print(f\"Prix: {price}\")\n",
    "    print(f\"Stock: {stock}\")\n",
    "    print(f\"Image: {image_url}\")\n",
    "    print(f\"Note: {rating}\")\n",
    "    print(f\"Description: {description}\")\n",
    "    print(\"-\" * 50)\n",
    "\n",
    "browser.quit()\n"
   ]
  },
  {
   "cell_type": "code",
   "execution_count": null,
   "id": "764696a1",
   "metadata": {},
   "outputs": [],
   "source": [
    "# Fermer le navigateur\n",
    "browser.quit()"
   ]
  }
 ],
 "metadata": {
  "kernelspec": {
   "display_name": "Python (SalesHouses)",
   "language": "python",
   "name": "saleshouses_env"
  },
  "language_info": {
   "codemirror_mode": {
    "name": "ipython",
    "version": 3
   },
   "file_extension": ".py",
   "mimetype": "text/x-python",
   "name": "python",
   "nbconvert_exporter": "python",
   "pygments_lexer": "ipython3",
   "version": "3.13.5"
  }
 },
 "nbformat": 4,
 "nbformat_minor": 5
}
