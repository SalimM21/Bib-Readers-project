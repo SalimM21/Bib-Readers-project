{
 "cells": [
  {
   "cell_type": "markdown",
   "id": "387951e2",
   "metadata": {},
   "source": [
    "Le **web scraping** consiste à extraire des données de sites web. Selenium Testing est un outil populaire pour le web scraping, car il peut interagir avec les pages web comme un humain, ce qui le rend particulièrement utile pour extraire du contenu dynamique généré par JavaScript.\n",
    "**Etapes pour travailler avec web sraping**\n",
    "\n",
    "1.  Installer Selenium :pip install selenium\n",
    "2.  Téléchargez WebDriver :\n",
    "      *  **ChromeDriver** : Télécharger ChromeDriver\n",
    "      *  **GeckoDriver (Firefox)** : Télécharger GeckoDriver\n",
    "\n",
    "**Selenium **est compatible avec plusieurs navigateurs, mais nous utiliserons **Google Chrome**, le plus populaire. Vous devrez également installer les éléments suivants :\n",
    "\n",
    "**Google Chrome** : La dernière version du navigateur fera l'affaire.\n",
    "**ChromeDriver** : Téléchargez celui qui correspond à votre version de Chrome*(pour savoir la version de chrome tape ceci *chrome://settings/help* dans chrome)*, extrayez le dossier zippé et collez le fichier exécutable ( chromedriver.exe) dans le dossier racine de votre projet.\n"
   ]
  },
  {
   "cell_type": "markdown",
   "id": "e37c6fe8",
   "metadata": {},
   "source": [
    "# Step #1: Build a Basic Scraper #\n",
    "  Initialize a **scraper.py** file in your project directory . The code instantiates a ChromeDriver object and uses it to visit the target site before quitting the driver instance:"
   ]
  },
  {
   "cell_type": "code",
   "execution_count": 1,
   "id": "b1b02ee5",
   "metadata": {},
   "outputs": [
    {
     "name": "stdout",
     "output_type": "stream",
     "text": [
      "Defaulting to user installation because normal site-packages is not writeable\n",
      "Requirement already satisfied: selenium in c:\\users\\naoui\\appdata\\local\\packages\\pythonsoftwarefoundation.python.3.13_qbz5n2kfra8p0\\localcache\\local-packages\\python313\\site-packages (4.34.2)\n",
      "Requirement already satisfied: urllib3~=2.5.0 in c:\\users\\naoui\\appdata\\local\\packages\\pythonsoftwarefoundation.python.3.13_qbz5n2kfra8p0\\localcache\\local-packages\\python313\\site-packages (from urllib3[socks]~=2.5.0->selenium) (2.5.0)\n",
      "Requirement already satisfied: trio~=0.30.0 in c:\\users\\naoui\\appdata\\local\\packages\\pythonsoftwarefoundation.python.3.13_qbz5n2kfra8p0\\localcache\\local-packages\\python313\\site-packages (from selenium) (0.30.0)\n",
      "Requirement already satisfied: trio-websocket~=0.12.2 in c:\\users\\naoui\\appdata\\local\\packages\\pythonsoftwarefoundation.python.3.13_qbz5n2kfra8p0\\localcache\\local-packages\\python313\\site-packages (from selenium) (0.12.2)\n",
      "Requirement already satisfied: certifi>=2025.6.15 in c:\\users\\naoui\\appdata\\local\\packages\\pythonsoftwarefoundation.python.3.13_qbz5n2kfra8p0\\localcache\\local-packages\\python313\\site-packages (from selenium) (2025.7.9)\n",
      "Requirement already satisfied: typing_extensions~=4.14.0 in c:\\users\\naoui\\appdata\\local\\packages\\pythonsoftwarefoundation.python.3.13_qbz5n2kfra8p0\\localcache\\local-packages\\python313\\site-packages (from selenium) (4.14.1)\n",
      "Requirement already satisfied: websocket-client~=1.8.0 in c:\\users\\naoui\\appdata\\local\\packages\\pythonsoftwarefoundation.python.3.13_qbz5n2kfra8p0\\localcache\\local-packages\\python313\\site-packages (from selenium) (1.8.0)\n",
      "Requirement already satisfied: attrs>=23.2.0 in c:\\users\\naoui\\appdata\\local\\packages\\pythonsoftwarefoundation.python.3.13_qbz5n2kfra8p0\\localcache\\local-packages\\python313\\site-packages (from trio~=0.30.0->selenium) (25.3.0)\n",
      "Requirement already satisfied: sortedcontainers in c:\\users\\naoui\\appdata\\local\\packages\\pythonsoftwarefoundation.python.3.13_qbz5n2kfra8p0\\localcache\\local-packages\\python313\\site-packages (from trio~=0.30.0->selenium) (2.4.0)\n",
      "Requirement already satisfied: idna in c:\\users\\naoui\\appdata\\local\\packages\\pythonsoftwarefoundation.python.3.13_qbz5n2kfra8p0\\localcache\\local-packages\\python313\\site-packages (from trio~=0.30.0->selenium) (3.10)\n",
      "Requirement already satisfied: outcome in c:\\users\\naoui\\appdata\\local\\packages\\pythonsoftwarefoundation.python.3.13_qbz5n2kfra8p0\\localcache\\local-packages\\python313\\site-packages (from trio~=0.30.0->selenium) (1.3.0.post0)\n",
      "Requirement already satisfied: sniffio>=1.3.0 in c:\\users\\naoui\\appdata\\local\\packages\\pythonsoftwarefoundation.python.3.13_qbz5n2kfra8p0\\localcache\\local-packages\\python313\\site-packages (from trio~=0.30.0->selenium) (1.3.1)\n",
      "Requirement already satisfied: cffi>=1.14 in c:\\users\\naoui\\appdata\\local\\packages\\pythonsoftwarefoundation.python.3.13_qbz5n2kfra8p0\\localcache\\local-packages\\python313\\site-packages (from trio~=0.30.0->selenium) (1.17.1)\n",
      "Requirement already satisfied: wsproto>=0.14 in c:\\users\\naoui\\appdata\\local\\packages\\pythonsoftwarefoundation.python.3.13_qbz5n2kfra8p0\\localcache\\local-packages\\python313\\site-packages (from trio-websocket~=0.12.2->selenium) (1.2.0)\n",
      "Requirement already satisfied: pysocks!=1.5.7,<2.0,>=1.5.6 in c:\\users\\naoui\\appdata\\local\\packages\\pythonsoftwarefoundation.python.3.13_qbz5n2kfra8p0\\localcache\\local-packages\\python313\\site-packages (from urllib3[socks]~=2.5.0->selenium) (1.7.1)\n",
      "Requirement already satisfied: pycparser in c:\\users\\naoui\\appdata\\local\\packages\\pythonsoftwarefoundation.python.3.13_qbz5n2kfra8p0\\localcache\\local-packages\\python313\\site-packages (from cffi>=1.14->trio~=0.30.0->selenium) (2.22)\n",
      "Requirement already satisfied: h11<1,>=0.9.0 in c:\\users\\naoui\\appdata\\local\\packages\\pythonsoftwarefoundation.python.3.13_qbz5n2kfra8p0\\localcache\\local-packages\\python313\\site-packages (from wsproto>=0.14->trio-websocket~=0.12.2->selenium) (0.16.0)\n",
      "Note: you may need to restart the kernel to use updated packages.\n"
     ]
    },
    {
     "name": "stderr",
     "output_type": "stream",
     "text": [
      "\n",
      "[notice] A new release of pip is available: 25.1.1 -> 25.2\n",
      "[notice] To update, run: C:\\Users\\naoui\\AppData\\Local\\Microsoft\\WindowsApps\\PythonSoftwareFoundation.Python.3.13_qbz5n2kfra8p0\\python.exe -m pip install --upgrade pip\n"
     ]
    }
   ],
   "source": [
    "%pip install selenium"
   ]
  },
  {
   "cell_type": "markdown",
   "id": "dd8c9c39",
   "metadata": {},
   "source": [
    "# Importer des bibliothèques et configurer WebDriver : #"
   ]
  },
  {
   "cell_type": "code",
   "execution_count": 2,
   "id": "4819f39e",
   "metadata": {},
   "outputs": [],
   "source": [
    "from selenium import webdriver\n",
    "from time import sleep\n",
    "from selenium.webdriver.chrome.service import Service\n",
    "\n",
    "import os"
   ]
  },
  {
   "cell_type": "markdown",
   "id": "a47f148d",
   "metadata": {},
   "source": [
    "# Set th path for webdriver #"
   ]
  },
  {
   "cell_type": "code",
   "execution_count": 3,
   "id": "39df1c08",
   "metadata": {},
   "outputs": [],
   "source": [
    "path='chromedriver-win64/chromedriver-win64/chromedriver.exe'"
   ]
  },
  {
   "cell_type": "markdown",
   "id": "426159a4",
   "metadata": {},
   "source": [
    " Dans les nouvelles versions de *Selenium (v4+)*, le paramètre executable_path n'existe plus dans le constructeur de *webdriver.Chrome()*.\n",
    "\n",
    "Depuis *Selenium 4*, il faut utiliser la classe Service pour spécifier le chemin du driver."
   ]
  },
  {
   "cell_type": "markdown",
   "id": "3dd26d53",
   "metadata": {},
   "source": [
    "#Étape 2 : Configurer le mode headless #"
   ]
  },
  {
   "cell_type": "markdown",
   "id": "2f9924cf",
   "metadata": {},
   "source": [
    "Activez le mode headless pour Chrome dans Selenium en définissant un ChromeOptionsobjet et en le transmettant au constructeur WebDriver de Chrome. De plus, vous devez définir headless=new pour activer le mode headless "
   ]
  },
  {
   "cell_type": "code",
   "execution_count": 7,
   "id": "5da96593",
   "metadata": {},
   "outputs": [],
   "source": [
    "# instantiate a Chrome options object\n",
    "options = webdriver.ChromeOptions()\n",
    "\n",
    "# set the options to use Chrome in headless mode\n",
    "options.add_argument(\"--headless=new\")\n",
    " \n",
    "# initialize an instance of the Chrome driver (browser) in headless mode\n",
    "browser = webdriver.Chrome(options=options)"
   ]
  },
  {
   "cell_type": "markdown",
   "id": "96f3917a",
   "metadata": {},
   "source": [
    "# Étape 3 : Extraire des données spécifiques de la page #"
   ]
  },
  {
   "cell_type": "markdown",
   "id": "8eb5b1d7",
   "metadata": {},
   "source": [
    "Il existe deux méthodes pour localiser des éléments sur une page Web :\n",
    "*find_element:* Il ne trouve qu'un seul élément. Si plusieurs éléments partagent des sélecteurs similaires, il renvoie le premier élément HTML correspondant à la condition de recherche.\n",
    "*find_elements:* Il renvoie tous les éléments qui correspondent à la condition de recherche dans un tableau.\n",
    "Ces deux méthodes prennent en charge huit stratégies de localisation. Nous pouvons les classer en trois catégories :\n",
    "*Sélecteurs CSS : By.ID , By.CLASS_NAME, et By.CSS_SELECTOR*.\n",
    "*XPath : By.XPATH* .\n",
    "*Sélecteurs directs : By.NAME , By.LINK_TEXT, By.PARTIAL_LINK_TEXT, et By.TAG_NAME*."
   ]
  },
  {
   "cell_type": "code",
   "execution_count": null,
   "id": "83a1e881",
   "metadata": {},
   "outputs": [
    {
     "name": "stdout",
     "output_type": "stream",
     "text": [
      "📄 Scraping page 1...\n",
      "📄 Scraping page 2...\n",
      "📄 Scraping page 3...\n",
      "📄 Scraping page 4...\n",
      "📄 Scraping page 5...\n",
      "📄 Scraping page 6...\n",
      "📄 Scraping page 7...\n",
      "📄 Scraping page 8...\n",
      "📄 Scraping page 9...\n",
      "📄 Scraping page 10...\n",
      "📄 Scraping page 11...\n",
      "📄 Scraping page 12...\n",
      "📄 Scraping page 13...\n",
      "📄 Scraping page 14...\n",
      "📄 Scraping page 15...\n",
      "📄 Scraping page 16...\n",
      "📄 Scraping page 17...\n",
      "📄 Scraping page 18...\n",
      "📄 Scraping page 19...\n",
      "📄 Scraping page 20...\n",
      "📄 Scraping page 21...\n",
      "📄 Scraping page 22...\n",
      "📄 Scraping page 23...\n",
      "📄 Scraping page 24...\n",
      "📄 Scraping page 25...\n",
      "📄 Scraping page 26...\n",
      "📄 Scraping page 27...\n",
      "📄 Scraping page 28...\n",
      "📄 Scraping page 29...\n",
      "📄 Scraping page 30...\n",
      "📄 Scraping page 31...\n",
      "📄 Scraping page 32...\n",
      "📄 Scraping page 33...\n",
      "📄 Scraping page 34...\n",
      "📄 Scraping page 35...\n",
      "📄 Scraping page 36...\n",
      "📄 Scraping page 37...\n",
      "📄 Scraping page 38...\n",
      "📄 Scraping page 39...\n",
      "📄 Scraping page 40...\n",
      "📄 Scraping page 41...\n",
      "📄 Scraping page 42...\n",
      "📄 Scraping page 43...\n",
      "📄 Scraping page 44...\n",
      "📄 Scraping page 45...\n",
      "📄 Scraping page 46...\n",
      "📄 Scraping page 47...\n",
      "📄 Scraping page 48...\n",
      "📄 Scraping page 49...\n",
      "📄 Scraping page 50...\n",
      "✅ Fin du scraping - plus de pages.\n",
      "💾 Données sauvegardées dans books_all_pages.csv\n"
     ]
    }
   ],
   "source": [
    "import time\n",
    "from selenium import webdriver\n",
    "from selenium.webdriver.common.by import By\n",
    "from selenium.webdriver.support.ui import WebDriverWait\n",
    "from selenium.webdriver.support import expected_conditions as EC\n",
    "import pandas as pd\n",
    "\n",
    "# === LANCEMENT SELENIUM ===\n",
    "driver = webdriver.Chrome()\n",
    "driver.get(\"https://books.toscrape.com\")\n",
    "\n",
    "books = []\n",
    "page_number = 1\n",
    "\n",
    "while True:\n",
    "    print(f\"📄 Scraping page {page_number}...\")\n",
    "    \n",
    "    # Attendre que les livres soient chargés\n",
    "    WebDriverWait(driver, 10).until(\n",
    "        EC.presence_of_all_elements_located((By.CLASS_NAME, \"product_pod\"))\n",
    "    )\n",
    "\n",
    "    # Attente de 30 secondes pour laisser bien charger (comme demandé)\n",
    "    time.sleep(30)\n",
    "\n",
    "    # Récupérer tous les liens des livres sur la page\n",
    "    book_links = driver.find_elements(By.XPATH, \"//h3/a\")\n",
    "    links = [link.get_attribute(\"href\") for link in book_links]\n",
    "\n",
    "    # Parcourir chaque livre\n",
    "    for link in links:\n",
    "        driver.get(link)\n",
    "\n",
    "        title = driver.find_element(By.TAG_NAME, \"h1\").text\n",
    "\n",
    "        try:\n",
    "            description = driver.find_element(\n",
    "                By.XPATH, \"//div[@id='product_description']/following-sibling::p\"\n",
    "            ).text\n",
    "        except:\n",
    "            description = \"Pas de description\"\n",
    "\n",
    "        price = driver.find_element(By.CLASS_NAME, \"price_color\").text\n",
    "        availability = driver.find_element(By.CLASS_NAME, \"availability\").text.strip()\n",
    "        image_url = driver.find_element(By.CSS_SELECTOR, \".item.active img\").get_attribute(\"src\")\n",
    "\n",
    "        rating_class = driver.find_element(By.CLASS_NAME, \"star-rating\").get_attribute(\"class\").split()[-1]\n",
    "        rating_map = {\"One\": 1, \"Two\": 2, \"Three\": 3, \"Four\": 4, \"Five\": 5}\n",
    "        rating = rating_map.get(rating_class, None)\n",
    "\n",
    "        books.append({\n",
    "            \"Title\": title,\n",
    "            \"Description\": description,\n",
    "            \"Price\": price,\n",
    "            \"Availability\": availability,\n",
    "            \"Image_URL\": image_url,\n",
    "            \"Rating\": rating\n",
    "        })\n",
    "\n",
    "    # Retour sur la page pour cliquer sur \"Next\"\n",
    "    driver.get(f\"https://books.toscrape.com/catalogue/page-{page_number}.html\")\n",
    "\n",
    "    try:\n",
    "        next_button = driver.find_element(By.CLASS_NAME, \"next\").find_element(By.TAG_NAME, \"a\")\n",
    "        next_page_url = next_button.get_attribute(\"href\")\n",
    "\n",
    "        # Gestion URL absolue\n",
    "        if not next_page_url.startswith(\"http\"):\n",
    "            next_page_url = \"https://books.toscrape.com/catalogue/\" + next_page_url\n",
    "\n",
    "        page_number += 1\n",
    "        driver.get(next_page_url)\n",
    "\n",
    "    except:\n",
    "        print(\" Fin du scraping - plus de pages.\")\n",
    "        break\n",
    "\n",
    "# Sauvegarde CSV\n",
    "df = pd.DataFrame(books)\n",
    "df.to_csv(\"books_all_pages.csv\", index=False, encoding=\"utf-8\")\n",
    "print(\" Données sauvegardées dans books_all_pages.csv\")\n",
    "\n",
    "driver.quit()\n"
   ]
  },
  {
   "cell_type": "code",
   "execution_count": 29,
   "id": "3a76c164",
   "metadata": {},
   "outputs": [
    {
     "data": {
      "text/html": [
       "<div>\n",
       "<style scoped>\n",
       "    .dataframe tbody tr th:only-of-type {\n",
       "        vertical-align: middle;\n",
       "    }\n",
       "\n",
       "    .dataframe tbody tr th {\n",
       "        vertical-align: top;\n",
       "    }\n",
       "\n",
       "    .dataframe thead th {\n",
       "        text-align: right;\n",
       "    }\n",
       "</style>\n",
       "<table border=\"1\" class=\"dataframe\">\n",
       "  <thead>\n",
       "    <tr style=\"text-align: right;\">\n",
       "      <th></th>\n",
       "      <th>Title</th>\n",
       "      <th>Description</th>\n",
       "      <th>Price</th>\n",
       "      <th>Availability</th>\n",
       "      <th>Image_URL</th>\n",
       "      <th>Rating</th>\n",
       "    </tr>\n",
       "  </thead>\n",
       "  <tbody>\n",
       "    <tr>\n",
       "      <th>0</th>\n",
       "      <td>A Light in the Attic</td>\n",
       "      <td>Its hard to imagine a world without A Light in...</td>\n",
       "      <td>£51.77</td>\n",
       "      <td>In stock (22 available)</td>\n",
       "      <td>https://books.toscrape.com/media/cache/fe/72/f...</td>\n",
       "      <td>3</td>\n",
       "    </tr>\n",
       "    <tr>\n",
       "      <th>1</th>\n",
       "      <td>Tipping the Velvet</td>\n",
       "      <td>Erotic and absorbing...Written with starling p...</td>\n",
       "      <td>£53.74</td>\n",
       "      <td>In stock (20 available)</td>\n",
       "      <td>https://books.toscrape.com/media/cache/08/e9/0...</td>\n",
       "      <td>1</td>\n",
       "    </tr>\n",
       "    <tr>\n",
       "      <th>2</th>\n",
       "      <td>Soumission</td>\n",
       "      <td>Dans une France assez proche de la nôtre, un h...</td>\n",
       "      <td>£50.10</td>\n",
       "      <td>In stock (20 available)</td>\n",
       "      <td>https://books.toscrape.com/media/cache/ee/cf/e...</td>\n",
       "      <td>1</td>\n",
       "    </tr>\n",
       "    <tr>\n",
       "      <th>3</th>\n",
       "      <td>Sharp Objects</td>\n",
       "      <td>WICKED above her hipbone, GIRL across her hear...</td>\n",
       "      <td>£47.82</td>\n",
       "      <td>In stock (20 available)</td>\n",
       "      <td>https://books.toscrape.com/media/cache/c0/59/c...</td>\n",
       "      <td>4</td>\n",
       "    </tr>\n",
       "    <tr>\n",
       "      <th>4</th>\n",
       "      <td>Sapiens: A Brief History of Humankind</td>\n",
       "      <td>From a renowned historian comes a groundbreaki...</td>\n",
       "      <td>£54.23</td>\n",
       "      <td>In stock (20 available)</td>\n",
       "      <td>https://books.toscrape.com/media/cache/ce/5f/c...</td>\n",
       "      <td>5</td>\n",
       "    </tr>\n",
       "    <tr>\n",
       "      <th>5</th>\n",
       "      <td>The Requiem Red</td>\n",
       "      <td>Patient Twenty-nine.A monster roams the halls ...</td>\n",
       "      <td>£22.65</td>\n",
       "      <td>In stock (19 available)</td>\n",
       "      <td>https://books.toscrape.com/media/cache/6b/07/6...</td>\n",
       "      <td>1</td>\n",
       "    </tr>\n",
       "    <tr>\n",
       "      <th>6</th>\n",
       "      <td>The Dirty Little Secrets of Getting Your Dream...</td>\n",
       "      <td>Drawing on his extensive experience evaluating...</td>\n",
       "      <td>£33.34</td>\n",
       "      <td>In stock (19 available)</td>\n",
       "      <td>https://books.toscrape.com/media/cache/e1/1b/e...</td>\n",
       "      <td>4</td>\n",
       "    </tr>\n",
       "    <tr>\n",
       "      <th>7</th>\n",
       "      <td>The Coming Woman: A Novel Based on the Life of...</td>\n",
       "      <td>If you have a heart, if you have a soul, Karen...</td>\n",
       "      <td>£17.93</td>\n",
       "      <td>In stock (19 available)</td>\n",
       "      <td>https://books.toscrape.com/media/cache/97/36/9...</td>\n",
       "      <td>3</td>\n",
       "    </tr>\n",
       "    <tr>\n",
       "      <th>8</th>\n",
       "      <td>The Boys in the Boat: Nine Americans and Their...</td>\n",
       "      <td>For readers of Laura Hillenbrands Seabiscuit a...</td>\n",
       "      <td>£22.60</td>\n",
       "      <td>In stock (19 available)</td>\n",
       "      <td>https://books.toscrape.com/media/cache/d1/2d/d...</td>\n",
       "      <td>4</td>\n",
       "    </tr>\n",
       "    <tr>\n",
       "      <th>9</th>\n",
       "      <td>The Black Maria</td>\n",
       "      <td>Praise for Aracelis Girmay:Girmays every losss...</td>\n",
       "      <td>£52.15</td>\n",
       "      <td>In stock (19 available)</td>\n",
       "      <td>https://books.toscrape.com/media/cache/d1/7a/d...</td>\n",
       "      <td>1</td>\n",
       "    </tr>\n",
       "    <tr>\n",
       "      <th>10</th>\n",
       "      <td>Starving Hearts (Triangular Trade Trilogy, #1)</td>\n",
       "      <td>Since her assault, Miss Annette Chetwynd has b...</td>\n",
       "      <td>£13.99</td>\n",
       "      <td>In stock (19 available)</td>\n",
       "      <td>https://books.toscrape.com/media/cache/a0/7e/a...</td>\n",
       "      <td>2</td>\n",
       "    </tr>\n",
       "    <tr>\n",
       "      <th>11</th>\n",
       "      <td>Shakespeare's Sonnets</td>\n",
       "      <td>This book is an important and complete collect...</td>\n",
       "      <td>£20.66</td>\n",
       "      <td>In stock (19 available)</td>\n",
       "      <td>https://books.toscrape.com/media/cache/4d/7a/4...</td>\n",
       "      <td>4</td>\n",
       "    </tr>\n",
       "    <tr>\n",
       "      <th>12</th>\n",
       "      <td>Set Me Free</td>\n",
       "      <td>Aaron Ledbetters future had been planned out f...</td>\n",
       "      <td>£17.46</td>\n",
       "      <td>In stock (19 available)</td>\n",
       "      <td>https://books.toscrape.com/media/cache/b8/e9/b...</td>\n",
       "      <td>5</td>\n",
       "    </tr>\n",
       "    <tr>\n",
       "      <th>13</th>\n",
       "      <td>Scott Pilgrim's Precious Little Life (Scott Pi...</td>\n",
       "      <td>Scott Pilgrims life is totally sweet. Hes 23 y...</td>\n",
       "      <td>£52.29</td>\n",
       "      <td>In stock (19 available)</td>\n",
       "      <td>https://books.toscrape.com/media/cache/97/27/9...</td>\n",
       "      <td>5</td>\n",
       "    </tr>\n",
       "    <tr>\n",
       "      <th>14</th>\n",
       "      <td>Rip it Up and Start Again</td>\n",
       "      <td>Punks raw power rejuvenated rock, but by the s...</td>\n",
       "      <td>£35.02</td>\n",
       "      <td>In stock (19 available)</td>\n",
       "      <td>https://books.toscrape.com/media/cache/81/7f/8...</td>\n",
       "      <td>5</td>\n",
       "    </tr>\n",
       "    <tr>\n",
       "      <th>15</th>\n",
       "      <td>Our Band Could Be Your Life: Scenes from the A...</td>\n",
       "      <td>This is the never-before-told story of the mus...</td>\n",
       "      <td>£57.25</td>\n",
       "      <td>In stock (19 available)</td>\n",
       "      <td>https://books.toscrape.com/media/cache/ad/96/a...</td>\n",
       "      <td>3</td>\n",
       "    </tr>\n",
       "    <tr>\n",
       "      <th>16</th>\n",
       "      <td>Olio</td>\n",
       "      <td>Part fact, part fiction, Tyehimba Jesss much a...</td>\n",
       "      <td>£23.88</td>\n",
       "      <td>In stock (19 available)</td>\n",
       "      <td>https://books.toscrape.com/media/cache/b1/0e/b...</td>\n",
       "      <td>1</td>\n",
       "    </tr>\n",
       "    <tr>\n",
       "      <th>17</th>\n",
       "      <td>Mesaerion: The Best Science Fiction Stories 18...</td>\n",
       "      <td>Andrew Barger, award-winning author and engine...</td>\n",
       "      <td>£37.59</td>\n",
       "      <td>In stock (19 available)</td>\n",
       "      <td>https://books.toscrape.com/media/cache/e8/1f/e...</td>\n",
       "      <td>1</td>\n",
       "    </tr>\n",
       "    <tr>\n",
       "      <th>18</th>\n",
       "      <td>Libertarianism for Beginners</td>\n",
       "      <td>Libertarianism isnt about winning elections; i...</td>\n",
       "      <td>£51.33</td>\n",
       "      <td>In stock (19 available)</td>\n",
       "      <td>https://books.toscrape.com/media/cache/91/a4/9...</td>\n",
       "      <td>2</td>\n",
       "    </tr>\n",
       "    <tr>\n",
       "      <th>19</th>\n",
       "      <td>It's Only the Himalayas</td>\n",
       "      <td>Wherever you go, whatever you do, just . . . d...</td>\n",
       "      <td>£45.17</td>\n",
       "      <td>In stock (19 available)</td>\n",
       "      <td>https://books.toscrape.com/media/cache/6d/41/6...</td>\n",
       "      <td>2</td>\n",
       "    </tr>\n",
       "  </tbody>\n",
       "</table>\n",
       "</div>"
      ],
      "text/plain": [
       "                                                Title  \\\n",
       "0                                A Light in the Attic   \n",
       "1                                  Tipping the Velvet   \n",
       "2                                          Soumission   \n",
       "3                                       Sharp Objects   \n",
       "4               Sapiens: A Brief History of Humankind   \n",
       "5                                     The Requiem Red   \n",
       "6   The Dirty Little Secrets of Getting Your Dream...   \n",
       "7   The Coming Woman: A Novel Based on the Life of...   \n",
       "8   The Boys in the Boat: Nine Americans and Their...   \n",
       "9                                     The Black Maria   \n",
       "10     Starving Hearts (Triangular Trade Trilogy, #1)   \n",
       "11                              Shakespeare's Sonnets   \n",
       "12                                        Set Me Free   \n",
       "13  Scott Pilgrim's Precious Little Life (Scott Pi...   \n",
       "14                          Rip it Up and Start Again   \n",
       "15  Our Band Could Be Your Life: Scenes from the A...   \n",
       "16                                               Olio   \n",
       "17  Mesaerion: The Best Science Fiction Stories 18...   \n",
       "18                       Libertarianism for Beginners   \n",
       "19                            It's Only the Himalayas   \n",
       "\n",
       "                                          Description   Price  \\\n",
       "0   Its hard to imagine a world without A Light in...  £51.77   \n",
       "1   Erotic and absorbing...Written with starling p...  £53.74   \n",
       "2   Dans une France assez proche de la nôtre, un h...  £50.10   \n",
       "3   WICKED above her hipbone, GIRL across her hear...  £47.82   \n",
       "4   From a renowned historian comes a groundbreaki...  £54.23   \n",
       "5   Patient Twenty-nine.A monster roams the halls ...  £22.65   \n",
       "6   Drawing on his extensive experience evaluating...  £33.34   \n",
       "7   If you have a heart, if you have a soul, Karen...  £17.93   \n",
       "8   For readers of Laura Hillenbrands Seabiscuit a...  £22.60   \n",
       "9   Praise for Aracelis Girmay:Girmays every losss...  £52.15   \n",
       "10  Since her assault, Miss Annette Chetwynd has b...  £13.99   \n",
       "11  This book is an important and complete collect...  £20.66   \n",
       "12  Aaron Ledbetters future had been planned out f...  £17.46   \n",
       "13  Scott Pilgrims life is totally sweet. Hes 23 y...  £52.29   \n",
       "14  Punks raw power rejuvenated rock, but by the s...  £35.02   \n",
       "15  This is the never-before-told story of the mus...  £57.25   \n",
       "16  Part fact, part fiction, Tyehimba Jesss much a...  £23.88   \n",
       "17  Andrew Barger, award-winning author and engine...  £37.59   \n",
       "18  Libertarianism isnt about winning elections; i...  £51.33   \n",
       "19  Wherever you go, whatever you do, just . . . d...  £45.17   \n",
       "\n",
       "               Availability  \\\n",
       "0   In stock (22 available)   \n",
       "1   In stock (20 available)   \n",
       "2   In stock (20 available)   \n",
       "3   In stock (20 available)   \n",
       "4   In stock (20 available)   \n",
       "5   In stock (19 available)   \n",
       "6   In stock (19 available)   \n",
       "7   In stock (19 available)   \n",
       "8   In stock (19 available)   \n",
       "9   In stock (19 available)   \n",
       "10  In stock (19 available)   \n",
       "11  In stock (19 available)   \n",
       "12  In stock (19 available)   \n",
       "13  In stock (19 available)   \n",
       "14  In stock (19 available)   \n",
       "15  In stock (19 available)   \n",
       "16  In stock (19 available)   \n",
       "17  In stock (19 available)   \n",
       "18  In stock (19 available)   \n",
       "19  In stock (19 available)   \n",
       "\n",
       "                                            Image_URL  Rating  \n",
       "0   https://books.toscrape.com/media/cache/fe/72/f...       3  \n",
       "1   https://books.toscrape.com/media/cache/08/e9/0...       1  \n",
       "2   https://books.toscrape.com/media/cache/ee/cf/e...       1  \n",
       "3   https://books.toscrape.com/media/cache/c0/59/c...       4  \n",
       "4   https://books.toscrape.com/media/cache/ce/5f/c...       5  \n",
       "5   https://books.toscrape.com/media/cache/6b/07/6...       1  \n",
       "6   https://books.toscrape.com/media/cache/e1/1b/e...       4  \n",
       "7   https://books.toscrape.com/media/cache/97/36/9...       3  \n",
       "8   https://books.toscrape.com/media/cache/d1/2d/d...       4  \n",
       "9   https://books.toscrape.com/media/cache/d1/7a/d...       1  \n",
       "10  https://books.toscrape.com/media/cache/a0/7e/a...       2  \n",
       "11  https://books.toscrape.com/media/cache/4d/7a/4...       4  \n",
       "12  https://books.toscrape.com/media/cache/b8/e9/b...       5  \n",
       "13  https://books.toscrape.com/media/cache/97/27/9...       5  \n",
       "14  https://books.toscrape.com/media/cache/81/7f/8...       5  \n",
       "15  https://books.toscrape.com/media/cache/ad/96/a...       3  \n",
       "16  https://books.toscrape.com/media/cache/b1/0e/b...       1  \n",
       "17  https://books.toscrape.com/media/cache/e8/1f/e...       1  \n",
       "18  https://books.toscrape.com/media/cache/91/a4/9...       2  \n",
       "19  https://books.toscrape.com/media/cache/6d/41/6...       2  "
      ]
     },
     "execution_count": 29,
     "metadata": {},
     "output_type": "execute_result"
    }
   ],
   "source": [
    "df.head(20)"
   ]
  },
  {
   "cell_type": "markdown",
   "id": "ef5c723c",
   "metadata": {},
   "source": [
    "# Nettoyage et prétraitement des données: #\n"
   ]
  },
  {
   "cell_type": "code",
   "execution_count": 13,
   "metadata": {},
   "outputs": [
    {
     "data": {
      "text/plain": [
       "(1000, 6)"
      ]
     },
     "execution_count": 13,
     "metadata": {},
     "output_type": "execute_result"
    }
   ],
   "source": [
    "df.shape"
   ]
  },
  {
   "cell_type": "code",
   "execution_count": 21,
   "id": "108fc7d8",
   "metadata": {},
   "outputs": [
    {
     "data": {
      "text/plain": [
       "Title           object\n",
       "Description     object\n",
       "Price           object\n",
       "Availability    object\n",
       "Image_URL       object\n",
       "Rating           int64\n",
       "dtype: object"
      ]
     },
     "execution_count": 21,
     "metadata": {},
     "output_type": "execute_result"
    }
   ],
   "source": [
    "df.dtypes"
   ]
  },
  {
   "cell_type": "code",
   "execution_count": 14,
   "metadata": {},
   "outputs": [
    {
     "data": {
      "text/html": [
       "<div>\n",
       "<style scoped>\n",
       "    .dataframe tbody tr th:only-of-type {\n",
       "        vertical-align: middle;\n",
       "    }\n",
       "\n",
       "    .dataframe tbody tr th {\n",
       "        vertical-align: top;\n",
       "    }\n",
       "\n",
       "    .dataframe thead th {\n",
       "        text-align: right;\n",
       "    }\n",
       "</style>\n",
       "<table border=\"1\" class=\"dataframe\">\n",
       "  <thead>\n",
       "    <tr style=\"text-align: right;\">\n",
       "      <th></th>\n",
       "      <th>Rating</th>\n",
       "    </tr>\n",
       "  </thead>\n",
       "  <tbody>\n",
       "    <tr>\n",
       "      <th>count</th>\n",
       "      <td>1000.000000</td>\n",
       "    </tr>\n",
       "    <tr>\n",
       "      <th>mean</th>\n",
       "      <td>2.923000</td>\n",
       "    </tr>\n",
       "    <tr>\n",
       "      <th>std</th>\n",
       "      <td>1.434967</td>\n",
       "    </tr>\n",
       "    <tr>\n",
       "      <th>min</th>\n",
       "      <td>1.000000</td>\n",
       "    </tr>\n",
       "    <tr>\n",
       "      <th>25%</th>\n",
       "      <td>2.000000</td>\n",
       "    </tr>\n",
       "    <tr>\n",
       "      <th>50%</th>\n",
       "      <td>3.000000</td>\n",
       "    </tr>\n",
       "    <tr>\n",
       "      <th>75%</th>\n",
       "      <td>4.000000</td>\n",
       "    </tr>\n",
       "    <tr>\n",
       "      <th>max</th>\n",
       "      <td>5.000000</td>\n",
       "    </tr>\n",
       "  </tbody>\n",
       "</table>\n",
       "</div>"
      ],
      "text/plain": [
       "            Rating\n",
       "count  1000.000000\n",
       "mean      2.923000\n",
       "std       1.434967\n",
       "min       1.000000\n",
       "25%       2.000000\n",
       "50%       3.000000\n",
       "75%       4.000000\n",
       "max       5.000000"
      ]
     },
     "execution_count": 14,
     "metadata": {},
     "output_type": "execute_result"
    }
   ],
   "source": [
    "df.describe()"
   ]
  },
  {
   "cell_type": "code",
   "execution_count": 23,
   "metadata": {},
   "outputs": [],
   "source": [
    "import re\n",
    "\n",
    "# Supposons que ton DataFrame s'appelle df\n",
    "def nettoyer_description(texte):\n",
    "    if pd.isna(texte):\n",
    "        return \"\"\n",
    "    # Supprimer les caractères spéciaux sauf lettres, chiffres, ponctuation courante\n",
    "    texte = re.sub(r\"[^a-zA-ZÀ-ÿ0-9\\s.,!?;:()-]\", \"\", texte)\n",
    "    # Remplacer espaces multiples par un seul espace\n",
    "    texte = re.sub(r\"\\s+\", \" \", texte)\n",
    "    # Supprimer espaces au début/fin\n",
    "    return texte.strip()\n",
    "\n",
    "df[\"Description\"] = df[\"Description\"].apply(nettoyer_description)\n"
   ]
  },
  {
   "cell_type": "code",
   "execution_count": 24,
   "metadata": {},
   "outputs": [
    {
     "data": {
      "text/plain": [
       "0      Its hard to imagine a world without A Light in...\n",
       "1      Erotic and absorbing...Written with starling p...\n",
       "2      Dans une France assez proche de la nôtre, un h...\n",
       "3      WICKED above her hipbone, GIRL across her hear...\n",
       "4      From a renowned historian comes a groundbreaki...\n",
       "                             ...                        \n",
       "995                                   Pas de description\n",
       "996    High school student Kei Nagai is struck dead i...\n",
       "997    In Englands Regency era, manners and elegance ...\n",
       "998    James Patterson, bestselling author of the Ale...\n",
       "999    Around the World, continent by continent, here...\n",
       "Name: Description, Length: 1000, dtype: object"
      ]
     },
     "execution_count": 24,
     "metadata": {},
     "output_type": "execute_result"
    }
   ],
   "source": [
    "df.Description"
   ]
  },
  {
   "cell_type": "code",
   "execution_count": 26,
   "id": "ad6d707e",
   "metadata": {},
   "outputs": [
    {
     "data": {
      "text/plain": [
       "Title           0\n",
       "Description     0\n",
       "Price           0\n",
       "Availability    0\n",
       "Image_URL       0\n",
       "Rating          0\n",
       "dtype: int64"
      ]
     },
     "execution_count": 26,
     "metadata": {},
     "output_type": "execute_result"
    }
   ],
   "source": [
    "df.isnull().sum()"
   ]
  },
  {
   "cell_type": "code",
   "execution_count": 27,
   "id": "4ada0c83",
   "metadata": {},
   "outputs": [
    {
     "data": {
      "text/plain": [
       "np.int64(0)"
      ]
     },
     "execution_count": 27,
     "metadata": {},
     "output_type": "execute_result"
    }
   ],
   "source": [
    "df.duplicated().sum()"
   ]
  },
  {
   "cell_type": "markdown",
   "id": "6ff0b7f3",
   "metadata": {},
   "source": [
    "# Conversion des colonnes #"
   ]
  },
  {
   "cell_type": "code",
   "execution_count": 31,
   "id": "0668b6fe",
   "metadata": {},
   "outputs": [],
   "source": [
    "df['Price'] = df['Price'].str.replace('£', '').astype(float)\n"
   ]
  },
  {
   "cell_type": "code",
   "execution_count": 32,
   "id": "908601a9",
   "metadata": {},
   "outputs": [
    {
     "data": {
      "text/plain": [
       "0      51.77\n",
       "1      53.74\n",
       "2      50.10\n",
       "3      47.82\n",
       "4      54.23\n",
       "       ...  \n",
       "995    55.53\n",
       "996    57.06\n",
       "997    16.97\n",
       "998    53.98\n",
       "999    26.08\n",
       "Name: Price, Length: 1000, dtype: float64"
      ]
     },
     "execution_count": 32,
     "metadata": {},
     "output_type": "execute_result"
    }
   ],
   "source": [
    "df.Price"
   ]
  },
  {
   "cell_type": "code",
   "execution_count": 33,
   "id": "f77eb1b4",
   "metadata": {},
   "outputs": [
    {
     "data": {
      "text/plain": [
       "Title            object\n",
       "Description      object\n",
       "Price           float64\n",
       "Availability     object\n",
       "Image_URL        object\n",
       "Rating            int64\n",
       "dtype: object"
      ]
     },
     "execution_count": 33,
     "metadata": {},
     "output_type": "execute_result"
    }
   ],
   "source": [
    "df.dtypes"
   ]
  },
  {
   "cell_type": "code",
   "execution_count": 35,
   "metadata": {},
   "outputs": [],
   "source": [
    "# Disponibilité : extraire nombre en stock\n",
    "def extraire_disponibilite(texte):\n",
    "    match = re.search(r'\\((\\d+) available\\)', texte)\n",
    "    if match:\n",
    "        return int(match.group(1))\n",
    "    else:\n",
    "        return 0\n",
    "\n",
    "df['availability_num'] = df['Availability'].apply(extraire_disponibilite)"
   ]
  },
  {
   "cell_type": "code",
   "execution_count": 36,
   "metadata": {},
   "outputs": [
    {
     "data": {
      "text/plain": [
       "Title                object\n",
       "Description          object\n",
       "Price               float64\n",
       "Availability         object\n",
       "Image_URL            object\n",
       "Rating                int64\n",
       "availability_num      int64\n",
       "dtype: object"
      ]
     },
     "execution_count": 36,
     "metadata": {},
     "output_type": "execute_result"
    }
   ],
   "source": [
    "df.dtypes"
   ]
  },
  {
   "cell_type": "code",
   "execution_count": 37,
   "metadata": {},
   "outputs": [
    {
     "data": {
      "text/html": [
       "<div>\n",
       "<style scoped>\n",
       "    .dataframe tbody tr th:only-of-type {\n",
       "        vertical-align: middle;\n",
       "    }\n",
       "\n",
       "    .dataframe tbody tr th {\n",
       "        vertical-align: top;\n",
       "    }\n",
       "\n",
       "    .dataframe thead th {\n",
       "        text-align: right;\n",
       "    }\n",
       "</style>\n",
       "<table border=\"1\" class=\"dataframe\">\n",
       "  <thead>\n",
       "    <tr style=\"text-align: right;\">\n",
       "      <th></th>\n",
       "      <th>Title</th>\n",
       "      <th>Description</th>\n",
       "      <th>Price</th>\n",
       "      <th>Availability</th>\n",
       "      <th>Image_URL</th>\n",
       "      <th>Rating</th>\n",
       "      <th>availability_num</th>\n",
       "    </tr>\n",
       "  </thead>\n",
       "  <tbody>\n",
       "    <tr>\n",
       "      <th>0</th>\n",
       "      <td>A Light in the Attic</td>\n",
       "      <td>Its hard to imagine a world without A Light in...</td>\n",
       "      <td>51.77</td>\n",
       "      <td>In stock (22 available)</td>\n",
       "      <td>https://books.toscrape.com/media/cache/fe/72/f...</td>\n",
       "      <td>3</td>\n",
       "      <td>22</td>\n",
       "    </tr>\n",
       "    <tr>\n",
       "      <th>1</th>\n",
       "      <td>Tipping the Velvet</td>\n",
       "      <td>Erotic and absorbing...Written with starling p...</td>\n",
       "      <td>53.74</td>\n",
       "      <td>In stock (20 available)</td>\n",
       "      <td>https://books.toscrape.com/media/cache/08/e9/0...</td>\n",
       "      <td>1</td>\n",
       "      <td>20</td>\n",
       "    </tr>\n",
       "    <tr>\n",
       "      <th>2</th>\n",
       "      <td>Soumission</td>\n",
       "      <td>Dans une France assez proche de la nôtre, un h...</td>\n",
       "      <td>50.10</td>\n",
       "      <td>In stock (20 available)</td>\n",
       "      <td>https://books.toscrape.com/media/cache/ee/cf/e...</td>\n",
       "      <td>1</td>\n",
       "      <td>20</td>\n",
       "    </tr>\n",
       "    <tr>\n",
       "      <th>3</th>\n",
       "      <td>Sharp Objects</td>\n",
       "      <td>WICKED above her hipbone, GIRL across her hear...</td>\n",
       "      <td>47.82</td>\n",
       "      <td>In stock (20 available)</td>\n",
       "      <td>https://books.toscrape.com/media/cache/c0/59/c...</td>\n",
       "      <td>4</td>\n",
       "      <td>20</td>\n",
       "    </tr>\n",
       "    <tr>\n",
       "      <th>4</th>\n",
       "      <td>Sapiens: A Brief History of Humankind</td>\n",
       "      <td>From a renowned historian comes a groundbreaki...</td>\n",
       "      <td>54.23</td>\n",
       "      <td>In stock (20 available)</td>\n",
       "      <td>https://books.toscrape.com/media/cache/ce/5f/c...</td>\n",
       "      <td>5</td>\n",
       "      <td>20</td>\n",
       "    </tr>\n",
       "    <tr>\n",
       "      <th>5</th>\n",
       "      <td>The Requiem Red</td>\n",
       "      <td>Patient Twenty-nine.A monster roams the halls ...</td>\n",
       "      <td>22.65</td>\n",
       "      <td>In stock (19 available)</td>\n",
       "      <td>https://books.toscrape.com/media/cache/6b/07/6...</td>\n",
       "      <td>1</td>\n",
       "      <td>19</td>\n",
       "    </tr>\n",
       "    <tr>\n",
       "      <th>6</th>\n",
       "      <td>The Dirty Little Secrets of Getting Your Dream...</td>\n",
       "      <td>Drawing on his extensive experience evaluating...</td>\n",
       "      <td>33.34</td>\n",
       "      <td>In stock (19 available)</td>\n",
       "      <td>https://books.toscrape.com/media/cache/e1/1b/e...</td>\n",
       "      <td>4</td>\n",
       "      <td>19</td>\n",
       "    </tr>\n",
       "    <tr>\n",
       "      <th>7</th>\n",
       "      <td>The Coming Woman: A Novel Based on the Life of...</td>\n",
       "      <td>If you have a heart, if you have a soul, Karen...</td>\n",
       "      <td>17.93</td>\n",
       "      <td>In stock (19 available)</td>\n",
       "      <td>https://books.toscrape.com/media/cache/97/36/9...</td>\n",
       "      <td>3</td>\n",
       "      <td>19</td>\n",
       "    </tr>\n",
       "    <tr>\n",
       "      <th>8</th>\n",
       "      <td>The Boys in the Boat: Nine Americans and Their...</td>\n",
       "      <td>For readers of Laura Hillenbrands Seabiscuit a...</td>\n",
       "      <td>22.60</td>\n",
       "      <td>In stock (19 available)</td>\n",
       "      <td>https://books.toscrape.com/media/cache/d1/2d/d...</td>\n",
       "      <td>4</td>\n",
       "      <td>19</td>\n",
       "    </tr>\n",
       "    <tr>\n",
       "      <th>9</th>\n",
       "      <td>The Black Maria</td>\n",
       "      <td>Praise for Aracelis Girmay:Girmays every losss...</td>\n",
       "      <td>52.15</td>\n",
       "      <td>In stock (19 available)</td>\n",
       "      <td>https://books.toscrape.com/media/cache/d1/7a/d...</td>\n",
       "      <td>1</td>\n",
       "      <td>19</td>\n",
       "    </tr>\n",
       "  </tbody>\n",
       "</table>\n",
       "</div>"
      ],
      "text/plain": [
       "                                               Title  \\\n",
       "0                               A Light in the Attic   \n",
       "1                                 Tipping the Velvet   \n",
       "2                                         Soumission   \n",
       "3                                      Sharp Objects   \n",
       "4              Sapiens: A Brief History of Humankind   \n",
       "5                                    The Requiem Red   \n",
       "6  The Dirty Little Secrets of Getting Your Dream...   \n",
       "7  The Coming Woman: A Novel Based on the Life of...   \n",
       "8  The Boys in the Boat: Nine Americans and Their...   \n",
       "9                                    The Black Maria   \n",
       "\n",
       "                                         Description  Price  \\\n",
       "0  Its hard to imagine a world without A Light in...  51.77   \n",
       "1  Erotic and absorbing...Written with starling p...  53.74   \n",
       "2  Dans une France assez proche de la nôtre, un h...  50.10   \n",
       "3  WICKED above her hipbone, GIRL across her hear...  47.82   \n",
       "4  From a renowned historian comes a groundbreaki...  54.23   \n",
       "5  Patient Twenty-nine.A monster roams the halls ...  22.65   \n",
       "6  Drawing on his extensive experience evaluating...  33.34   \n",
       "7  If you have a heart, if you have a soul, Karen...  17.93   \n",
       "8  For readers of Laura Hillenbrands Seabiscuit a...  22.60   \n",
       "9  Praise for Aracelis Girmay:Girmays every losss...  52.15   \n",
       "\n",
       "              Availability                                          Image_URL  \\\n",
       "0  In stock (22 available)  https://books.toscrape.com/media/cache/fe/72/f...   \n",
       "1  In stock (20 available)  https://books.toscrape.com/media/cache/08/e9/0...   \n",
       "2  In stock (20 available)  https://books.toscrape.com/media/cache/ee/cf/e...   \n",
       "3  In stock (20 available)  https://books.toscrape.com/media/cache/c0/59/c...   \n",
       "4  In stock (20 available)  https://books.toscrape.com/media/cache/ce/5f/c...   \n",
       "5  In stock (19 available)  https://books.toscrape.com/media/cache/6b/07/6...   \n",
       "6  In stock (19 available)  https://books.toscrape.com/media/cache/e1/1b/e...   \n",
       "7  In stock (19 available)  https://books.toscrape.com/media/cache/97/36/9...   \n",
       "8  In stock (19 available)  https://books.toscrape.com/media/cache/d1/2d/d...   \n",
       "9  In stock (19 available)  https://books.toscrape.com/media/cache/d1/7a/d...   \n",
       "\n",
       "   Rating  availability_num  \n",
       "0       3                22  \n",
       "1       1                20  \n",
       "2       1                20  \n",
       "3       4                20  \n",
       "4       5                20  \n",
       "5       1                19  \n",
       "6       4                19  \n",
       "7       3                19  \n",
       "8       4                19  \n",
       "9       1                19  "
      ]
     },
     "execution_count": 37,
     "metadata": {},
     "output_type": "execute_result"
    }
   ],
   "source": [
    "df.head(10)"
   ]
  },
  {
   "cell_type": "code",
   "execution_count": 38,
   "id": "6a99665a",
   "metadata": {},
   "outputs": [
    {
     "data": {
      "text/plain": [
       "np.int64(0)"
      ]
     },
     "execution_count": 38,
     "metadata": {},
     "output_type": "execute_result"
    }
   ],
   "source": [
    "df.Description.isnull().sum()"
   ]
  },
  {
   "cell_type": "code",
   "execution_count": 40,
   "id": "a13d1f87",
   "metadata": {},
   "outputs": [
    {
     "data": {
      "text/html": [
       "<div>\n",
       "<style scoped>\n",
       "    .dataframe tbody tr th:only-of-type {\n",
       "        vertical-align: middle;\n",
       "    }\n",
       "\n",
       "    .dataframe tbody tr th {\n",
       "        vertical-align: top;\n",
       "    }\n",
       "\n",
       "    .dataframe thead th {\n",
       "        text-align: right;\n",
       "    }\n",
       "</style>\n",
       "<table border=\"1\" class=\"dataframe\">\n",
       "  <thead>\n",
       "    <tr style=\"text-align: right;\">\n",
       "      <th></th>\n",
       "      <th>Price</th>\n",
       "      <th>Rating</th>\n",
       "      <th>availability_num</th>\n",
       "    </tr>\n",
       "  </thead>\n",
       "  <tbody>\n",
       "    <tr>\n",
       "      <th>count</th>\n",
       "      <td>1000.00000</td>\n",
       "      <td>1000.000000</td>\n",
       "      <td>1000.000000</td>\n",
       "    </tr>\n",
       "    <tr>\n",
       "      <th>mean</th>\n",
       "      <td>35.07035</td>\n",
       "      <td>2.923000</td>\n",
       "      <td>8.585000</td>\n",
       "    </tr>\n",
       "    <tr>\n",
       "      <th>std</th>\n",
       "      <td>14.44669</td>\n",
       "      <td>1.434967</td>\n",
       "      <td>5.654622</td>\n",
       "    </tr>\n",
       "    <tr>\n",
       "      <th>min</th>\n",
       "      <td>10.00000</td>\n",
       "      <td>1.000000</td>\n",
       "      <td>1.000000</td>\n",
       "    </tr>\n",
       "    <tr>\n",
       "      <th>25%</th>\n",
       "      <td>22.10750</td>\n",
       "      <td>2.000000</td>\n",
       "      <td>3.000000</td>\n",
       "    </tr>\n",
       "    <tr>\n",
       "      <th>50%</th>\n",
       "      <td>35.98000</td>\n",
       "      <td>3.000000</td>\n",
       "      <td>7.000000</td>\n",
       "    </tr>\n",
       "    <tr>\n",
       "      <th>75%</th>\n",
       "      <td>47.45750</td>\n",
       "      <td>4.000000</td>\n",
       "      <td>14.000000</td>\n",
       "    </tr>\n",
       "    <tr>\n",
       "      <th>max</th>\n",
       "      <td>59.99000</td>\n",
       "      <td>5.000000</td>\n",
       "      <td>22.000000</td>\n",
       "    </tr>\n",
       "  </tbody>\n",
       "</table>\n",
       "</div>"
      ],
      "text/plain": [
       "            Price       Rating  availability_num\n",
       "count  1000.00000  1000.000000       1000.000000\n",
       "mean     35.07035     2.923000          8.585000\n",
       "std      14.44669     1.434967          5.654622\n",
       "min      10.00000     1.000000          1.000000\n",
       "25%      22.10750     2.000000          3.000000\n",
       "50%      35.98000     3.000000          7.000000\n",
       "75%      47.45750     4.000000         14.000000\n",
       "max      59.99000     5.000000         22.000000"
      ]
     },
     "execution_count": 40,
     "metadata": {},
     "output_type": "execute_result"
    }
   ],
   "source": [
    "df.describe()"
   ]
  },
  {
   "cell_type": "code",
   "execution_count": 39,
   "id": "f6e5454f",
   "metadata": {},
   "outputs": [],
   "source": [
    "df.to_csv(\"livres_bruts.csv\", index=False, encoding=\"utf-8\")\n"
   ]
  },
  {
   "cell_type": "code",
   "execution_count": 41,
   "id": "f46aea10",
   "metadata": {},
   "outputs": [
    {
     "data": {
      "image/png": "[encoded data removed]",
      "text/plain": [
       "<Figure size 600x400 with 1 Axes>"
      ]
     },
     "metadata": {},
     "output_type": "display_data"
    },
    {
     "data": {
      "image/png": "[encoded data removed]",
      "text/plain": [
       "<Figure size 600x400 with 1 Axes>"
      ]
     },
     "metadata": {},
     "output_type": "display_data"
    },
    {
     "data": {
      "image/png": "[encoded data removed]",
      "text/plain": [
       "<Figure size 600x400 with 1 Axes>"
      ]
     },
     "metadata": {},
     "output_type": "display_data"
    }
   ],
   "source": [
    "import pandas as pd\n",
    "import matplotlib.pyplot as plt\n",
    "\n",
    "# Chargement des données\n",
    "df = pd.read_csv(\"livres_bruts.csv\")\n",
    "\n",
    "# --- Histogramme des prix ---\n",
    "plt.figure(figsize=(6,4))\n",
    "plt.hist(df['Price'], bins=20, color='green', edgecolor='black')\n",
    "plt.title(\"Distribution des prix des livres\")\n",
    "plt.xlabel(\"Prix (€)\")\n",
    "plt.ylabel(\"Nombre de livres\")\n",
    "plt.grid(axis='y', alpha=0.3)\n",
    "plt.show()\n",
    "\n",
    "# --- Histogramme des notes ---\n",
    "plt.figure(figsize=(6,4))\n",
    "plt.hist(df['Rating'], bins=range(1,7), align='left', color='skyblue', edgecolor='black')\n",
    "plt.title(\"Distribution des notes des livres\")\n",
    "plt.xlabel(\"Note (étoiles)\")\n",
    "plt.ylabel(\"Nombre de livres\")\n",
    "plt.xticks(range(1,6))\n",
    "plt.grid(axis='y', alpha=0.3)\n",
    "plt.show()\n",
    "\n",
    "# --- Histogramme des disponibilités ---\n",
    "plt.figure(figsize=(6,4))\n",
    "plt.hist(df['availability_num'], bins=15, color='orange', edgecolor='black')\n",
    "plt.title(\"Distribution du stock des livres\")\n",
    "plt.xlabel(\"Nombre d'exemplaires disponibles\")\n",
    "plt.ylabel(\"Nombre de livres\")\n",
    "plt.grid(axis='y', alpha=0.3)\n",
    "plt.show()\n"
   ]
  },
  {
   "cell_type": "code",
   "execution_count": null,
   "id": "b8302cdd",
   "metadata": {},
   "outputs": [],
   "source": []
  }
 ],
 "metadata": {
  "kernelspec": {
   "display_name": "Python (SalesHouses)",
   "language": "python",
   "name": "saleshouses_env"
  },
  "language_info": {
   "codemirror_mode": {
    "name": "ipython",
    "version": 3
   },
   "file_extension": ".py",
   "mimetype": "text/x-python",
   "name": "python",
   "nbconvert_exporter": "python",
   "pygments_lexer": "ipython3",
   "version": "3.13.5"
  }
 },
 "nbformat": 4,
 "nbformat_minor": 5
}
